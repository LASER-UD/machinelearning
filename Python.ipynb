{
 "cells": [
  {
   "cell_type": "markdown",
   "id": "miniature-planet",
   "metadata": {},
   "source": [
    "![Texto alternativo](https://laserud.co/wp-content/uploads/2020/05/cropped-LOGOLASER-1.jpg \"Grupo LASER\")\n",
    "\n",
    "# Introducción a Python\n",
    "\n",
    "Entre los lenguajes de programación más populares para el análisis y procesamiento de datos encontraremos **Python** y **R**. Para efectos de esta guía utilizaremos **Python** puesto que es un lenguaje de programación robusto, con muchas librerias, y que no es complejo para integrar tecnologías como **Tensorflow** (para las redes neuronales).\n",
    "\n",
    "En esta sección te contextualizaras sobre lo mínimo que se necesita saber para entender el contenido de la guia.\n"
   ]
  },
  {
   "cell_type": "markdown",
   "id": "pacific-messenger",
   "metadata": {},
   "source": [
    "## Python\n",
    "\n",
    "Como se mencionaba en la sección anterior Python es un lenguaje de programación de tipado dinámico y que permite trabajar diferentes paradigmas de programación (orientado a objetos, funcional, entre otros). Adicionalmente al ser un lenguaje de programación interpretado lo vuelve portable y multiplataforma; es decir se puede ejecutar sobre diferentes sistemas operativos. Para mayor información puedes consultar en la documentación <a href=\"https://docs.python.org/3/faq/general.html#what-is-python\" target=\"_blank\">aquí</a>"
   ]
  },
  {
   "cell_type": "markdown",
   "id": "sapphire-bedroom",
   "metadata": {},
   "source": [
    "### Asignación de variables y tipado dinámico\n",
    "\n",
    "Las variables en Python son debilmente tipadas haciendo el lenguaje muy permisivo en cuanto a la definición de variables, es decir que no se especifica el tipo como en otros lenguajes de programación; sin embargo uno de los puntos debiles y de cuidado con estas variables debilmente tipadas es que en ocasiones podríamos tener errores en tiempo de ejecución.\n",
    "\n",
    "Para declarar una variable la estructura es:\n",
    "\n",
    "[NOMBRE_VARIABLE] = [LO_QUE_SE_QUIERA_ASIGNAR]\n",
    "\n",
    "En el siguiente fragmento de código encontraremos algunos ejemplos de definición de variables.\n",
    "\n",
    "**Nota.** Para validar el contenido de la variable vamos a utilizar la funcion **print()** pero el tema de las funciones lo revisaremos mas adelante en el transcurso de esta guía."
   ]
  },
  {
   "cell_type": "code",
   "execution_count": 1,
   "id": "commercial-update",
   "metadata": {},
   "outputs": [
    {
     "name": "stdout",
     "output_type": "stream",
     "text": [
      "La variable x_inicial tiene valor None\n",
      "La variable x_inicial tiene valor False\n",
      "La variable x_inicial tiene valor True\n",
      "La variable x_inicial tiene valor 10\n",
      "La variable x_inicial tiene valor hola mundo\n",
      "La variable x_inicial tiene valor 10 y la variable y_inicial tiene valor 20\n"
     ]
    }
   ],
   "source": [
    "# Vamos a definir la variable x_inicial con un valor None, el equivalente a este en otros lenguajes es null y quiere decir que la variable existe pero no tiene una definición\n",
    "x_inicial = None\n",
    "print('La variable x_inicial tiene valor', x_inicial)\n",
    "\n",
    "\n",
    "# Vamos a redefinir la variable x_inicial con un valor booleano falso\n",
    "x_inicial = False\n",
    "print('La variable x_inicial tiene valor', x_inicial)\n",
    "\n",
    "# Vamos a redefinir la variable x_inicial con un valor booleano true\n",
    "x_inicial = True\n",
    "print('La variable x_inicial tiene valor', x_inicial)\n",
    "\n",
    "\n",
    "# Vamos a redefinir la variable x_inicial con valor numerico 10\n",
    "x_inicial = 10\n",
    "print('La variable x_inicial tiene valor', x_inicial)\n",
    "\n",
    "# Ahora vamos a redefinir la variable x_inicial con la cadena de texto 'hola mundo'\n",
    "x_inicial = 'hola mundo'\n",
    "print('La variable x_inicial tiene valor', x_inicial)\n",
    "\n",
    "# Una de las cosas que son muy cheveres de Python es que permite realizar asignacion multiple usando una estructura similar\n",
    "x_inicial, y_inicial = 10, 20\n",
    "print('La variable x_inicial tiene valor', x_inicial, 'y la variable y_inicial tiene valor', y_inicial)"
   ]
  },
  {
   "cell_type": "markdown",
   "id": "noted-dating",
   "metadata": {},
   "source": [
    "Ahora vamos a agregar un poco mas de complejidad a la definición de variables puesto que podemos construir listas de elementos, diccionarios y asignarlos a una variable como se puede ver a continuación."
   ]
  },
  {
   "cell_type": "code",
   "execution_count": 2,
   "id": "aboriginal-discretion",
   "metadata": {},
   "outputs": [
    {
     "name": "stdout",
     "output_type": "stream",
     "text": [
      "La variable lista contiene los elementos: []\n",
      "La variable lista contiene los elementos: ['Grupo', 'Laser']\n",
      "La variable lista contiene los elementos: ['Grupo', 'Laser', 2021]\n",
      "La variable lista contiene los elementos: ['Grupo', 'Laser', 2021, True, False, None]\n"
     ]
    }
   ],
   "source": [
    "# Definicion variable llamada lista que va a tener cero elementos\n",
    "lista = []\n",
    "print('La variable lista contiene los elementos:', lista)\n",
    "# Ahora redefiniremos la variable llamada lista que va a tener diferentes cadenas de texto\n",
    "lista = ['Grupo', 'Laser']\n",
    "print('La variable lista contiene los elementos:', lista)\n",
    "\n",
    "# Ahora redefiniremos la variable llamada lista que va a tener diferentes cadenas de texto y variables númericas\n",
    "lista = ['Grupo', 'Laser', 2021]\n",
    "print('La variable lista contiene los elementos:', lista)\n",
    "\n",
    "\n",
    "# Ahora redefiniremos la variable llamada lista que va a tener diferentes cadenas de texto, variables númericas, booleanas y el valor None\n",
    "lista = ['Grupo', 'Laser', 2021, True, False, None]\n",
    "print('La variable lista contiene los elementos:', lista)\n"
   ]
  },
  {
   "cell_type": "markdown",
   "id": "seeing-connecticut",
   "metadata": {},
   "source": [
    "Los ultimos dos ejemplos del fragmento de código anterior hay que resaltar que a pesar que el lenguaje lo permite; a modo de recomendación es importante no usar varios tipos de dato en listas o diccionarios, puesto que normalmente uno como desarrollador escribe el codigo para manipular todos los elementos de forma general y el error frecuente que ocurriria al mezclar esos tipos de dato es que se intente hacer una operación no permitida o invalida."
   ]
  },
  {
   "cell_type": "code",
   "execution_count": 3,
   "id": "humanitarian-abuse",
   "metadata": {},
   "outputs": [
    {
     "name": "stdout",
     "output_type": "stream",
     "text": [
      "La variable diccionario contiene los elementos: {}\n",
      "La variable diccionario contiene los elementos: {'hola': 'mundo'}\n",
      "La variable diccionario contiene los elementos: {'hola': 'mundo', 'boolean1': True, 'boolean2': False, 'null_value': None, 'numeric_value': 10}\n"
     ]
    }
   ],
   "source": [
    "# Definicion variable llamada diccionario que va a tener cero elementos\n",
    "diccionario = {}\n",
    "print('La variable diccionario contiene los elementos:', diccionario)\n",
    "\n",
    "# Ahora vamos a redefinir la variable diccionario que va a tener un elemento cuya clave es 'hola' y el valor es mundo\n",
    "diccionario = {\n",
    "    'hola': 'mundo'\n",
    "}\n",
    "print('La variable diccionario contiene los elementos:', diccionario)\n",
    "\n",
    "# Ahora vamos a redefinir la variable diccionario que va a tener un elemento cuya clave es 'hola' y el valor es mundo\n",
    "# adicionalmente agregaremos otros dos elementos con clave 'boolean1' y 'boolean2',\n",
    "# otro con clave 'null_value' y otro con clave numeric_value\n",
    "diccionario = {\n",
    "    'hola': 'mundo',\n",
    "    'boolean1': True,\n",
    "    'boolean2': False,\n",
    "    'null_value': None,\n",
    "    'numeric_value': 10\n",
    "}\n",
    "print('La variable diccionario contiene los elementos:', diccionario)"
   ]
  },
  {
   "cell_type": "markdown",
   "id": "acceptable-powder",
   "metadata": {},
   "source": [
    "En la definición de diccionarios se puede tomar como si fuesen las características de un elemento que por lo tanto esta bien que tenga tipos de dato diferentes.\n"
   ]
  },
  {
   "cell_type": "markdown",
   "id": "neither-typing",
   "metadata": {},
   "source": [
    "Ahora vamos a construir una estructura un poco mas interesante que combine los conceptos anteriormente presentados la cual llamaremos grupo_laser."
   ]
  },
  {
   "cell_type": "code",
   "execution_count": 4,
   "id": "defensive-munich",
   "metadata": {},
   "outputs": [
    {
     "name": "stdout",
     "output_type": "stream",
     "text": [
      "Información estructura grupo_laser\n",
      "{'institucion': 'UNIVERSIDAD DISTRITAL FRANCISCO JOSE DE CALDAS', 'facultad': 'Ingenieria', 'profesores_investigadores': [{'nombres': 'Cesar Perdomo', 'vinculacion_universidad': 'Docente de planta', 'vinculacion_grupo_investigacion': 'Investigador principal', 'edad': 30, 'esta_en_sabatico': False, 'proyectos_dirigidos': ['pasantia de grado maestria', 'otras tesis']}, {'nombres': 'Ernesto Gomez', 'vinculacion_universidad': 'Docente de planta', 'vinculacion_grupo_investigacion': 'Director Grupo de investigación', 'edad': 40, 'esta_en_sabatico': False, 'proyectos_dirigidos': ['tesis maestria', 'otras tesis pregrado']}]}\n"
     ]
    }
   ],
   "source": [
    "grupo_laser = {\n",
    "    'institucion': 'UNIVERSIDAD DISTRITAL FRANCISCO JOSE DE CALDAS',\n",
    "    'facultad': 'Ingenieria',\n",
    "    'profesores_investigadores':[\n",
    "        {\n",
    "            'nombres': 'Cesar Perdomo',\n",
    "            'vinculacion_universidad': 'Docente de planta',\n",
    "            'vinculacion_grupo_investigacion': 'Investigador principal',\n",
    "            'edad': 30,\n",
    "            'esta_en_sabatico': False,\n",
    "            'proyectos_dirigidos': ['pasantia de grado maestria', 'otras tesis']\n",
    "        },\n",
    "        {\n",
    "            'nombres': 'Ernesto Gomez',\n",
    "            'vinculacion_universidad': 'Docente de planta',\n",
    "            'vinculacion_grupo_investigacion': 'Director Grupo de investigación',\n",
    "            'edad': 40,\n",
    "            'esta_en_sabatico': False,\n",
    "            'proyectos_dirigidos': ['tesis maestria', 'otras tesis pregrado']\n",
    "        }\n",
    "    ]\n",
    "}\n",
    "print('Información estructura grupo_laser')\n",
    "print(grupo_laser)"
   ]
  },
  {
   "cell_type": "markdown",
   "id": "funded-galaxy",
   "metadata": {},
   "source": [
    "### Funciones\n",
    "\n",
    "Una función es la abstracción de alguna operación que se puede utilizar en múltiples ocasiones. Es una buena práctica de programación utilizar funciones puesto que permite aislar cambios, facilitar la comprensión del código y la modificación del mismo.\n",
    "\n",
    "La estructura de una funcion en Python esta dada por el uso de la palabra reservada **def** seguido del nombre de la funcion, los parametros envueltos en parentesis, y la especificación del contenido de la función. En el caso de Python una funcion puede retornar de cero a multiples resultados.\n",
    "\n",
    "\n",
    "Ahora vamos a echar un vistazo sobre un par de funciones de ejemplo"
   ]
  },
  {
   "cell_type": "code",
   "execution_count": 5,
   "id": "brown-dealing",
   "metadata": {},
   "outputs": [
    {
     "name": "stdout",
     "output_type": "stream",
     "text": [
      "Suma de los numeros 10 20 es igual a 30\n"
     ]
    }
   ],
   "source": [
    "# Funcion para sumar dos numeros\n",
    "\n",
    "def sumar(a, b):\n",
    "    resultado = a + b\n",
    "    return resultado\n",
    "\n",
    "# Ahora vamos a definir dos numeros\n",
    "\n",
    "primer_numero = 10\n",
    "segundo_numero = 20\n",
    "\n",
    "# Luego se hara el llamado de la funcion sumar y la respuesta de esa funcion se asignara a la variable resultado\n",
    "\n",
    "resultado = sumar(primer_numero, segundo_numero)\n",
    "\n",
    "# Se imprimen las variables relacionadas en la operacion.\n",
    "\n",
    "print('Suma de los numeros', primer_numero, segundo_numero, 'es igual a', resultado)"
   ]
  },
  {
   "cell_type": "markdown",
   "id": "functional-witch",
   "metadata": {},
   "source": [
    "Ahora vamos a crear una función que devuelva multiples resultados"
   ]
  },
  {
   "cell_type": "code",
   "execution_count": 6,
   "id": "upset-plant",
   "metadata": {},
   "outputs": [
    {
     "name": "stdout",
     "output_type": "stream",
     "text": [
      "Suma de los numeros 10 20 es igual a 30\n",
      "Resta de los numeros 10 20 es igual a -10\n",
      "Multiplicacion de los numeros 10 20 es igual a 200\n"
     ]
    }
   ],
   "source": [
    "# Funcion para resolver las operaciones suma, resta y multiplicacion de dos numeros\n",
    "def ejecutar_operaciones(a, b):\n",
    "    return a + b, a - b, a * b \n",
    "\n",
    "# Ahora vamos a definir dos numeros\n",
    "\n",
    "primer_numero = 10\n",
    "segundo_numero = 20\n",
    "\n",
    "suma, resta, multiplicacion = ejecutar_operaciones(primer_numero, segundo_numero)\n",
    "print('Suma de los numeros', primer_numero, segundo_numero, 'es igual a', suma)\n",
    "print('Resta de los numeros', primer_numero, segundo_numero, 'es igual a', resta)\n",
    "print('Multiplicacion de los numeros', primer_numero, segundo_numero, 'es igual a', multiplicacion)"
   ]
  },
  {
   "cell_type": "markdown",
   "id": "representative-vaccine",
   "metadata": {},
   "source": [
    "Ahora vamos a crear una funcion que ejecute varias operaciones pero que no retorne valores."
   ]
  },
  {
   "cell_type": "code",
   "execution_count": 7,
   "id": "eleven-filename",
   "metadata": {},
   "outputs": [
    {
     "name": "stdout",
     "output_type": "stream",
     "text": [
      "Primer llamado\n",
      "Suma de los numeros 5 5 es igual a 10\n",
      "Resta de los numeros 5 5 es igual a 0\n",
      "Multiplicacion de los numeros 5 5 es igual a 25\n",
      "Segundo llamado\n",
      "Suma de los numeros 5 3 es igual a 8\n",
      "Resta de los numeros 5 3 es igual a 2\n",
      "Multiplicacion de los numeros 5 3 es igual a 15\n"
     ]
    }
   ],
   "source": [
    "def ejecutar_operaciones(primer_numero, segundo_numero):\n",
    "    print('Suma de los numeros', primer_numero, segundo_numero, 'es igual a', primer_numero + segundo_numero)\n",
    "    print('Resta de los numeros', primer_numero, segundo_numero, 'es igual a', primer_numero - segundo_numero)\n",
    "    print('Multiplicacion de los numeros', primer_numero, segundo_numero, 'es igual a', primer_numero * segundo_numero)\n",
    "\n",
    "print('Primer llamado')\n",
    "ejecutar_operaciones(5, 5)\n",
    "print('Segundo llamado')\n",
    "ejecutar_operaciones(5, 3)"
   ]
  },
  {
   "cell_type": "markdown",
   "id": "preceding-manual",
   "metadata": {},
   "source": [
    "### Objetos y Clases\n",
    "\n",
    "Cuando hablamos de objetos y clases a veces es confuso abordar el concepto, pero podríamos decir que un objeto es la ejemplificación de una abstracción que esta dada en terminos de una clase. Por ejemplo\n",
    "\n",
    "| Objeto | Clase |\n",
    "|-|-|\n",
    "| Colombia | Pais |\n",
    "| Peru | Pais |\n",
    "| Carlos | Persona |\n",
    "| Andres | Persona |\n",
    "\n",
    "Los ejemplos anteriormente expuestos son muy buenos porque si especificamos las clases:\n",
    "1. **Pais.** Tiene una extension territorial, numero de habitantes, ubicacion geografica, moneda, presidente, entre otras caracteristicas.\n",
    "Entonces la relación mental que queremos desarrollar pensar en X es un tipo de Y, por ejemplo Colombia y Peru pertenecen a la clase pais\n",
    "2. **Persona.** Una persona tiene una fecha de nacimiento, profesion, nivel academico, color de ojos, estatura, peso, entre otras características. Ademas tiene ciertas acciones que se pueden definir como comunes, por ejemplo respirar, dormir, entre otros.\n",
    "En este caso los profesores Cesar y Ernesto pertenecen a la clase persona.\n",
    "\n",
    "**Nota.** Dependiento el nivel de detalle de los atributos se puede definir y diferenciar dos objetos, es decir entre mas preciso sea el nivel de abstraccion (las clases), los objetos pueden tener una mejor representación.\n",
    "\n",
    "A nivel de sintaxis en Python la estructura de una clase esta dada por la palabra reservada **class** seguida por el nombre de la clase y el contenido de la misma, ya sea a nivel de atributos o funciones, entre ellas el metodo constructor.\n",
    "\n",
    "Ahora vamos a darle un vistazo a un ejemplo de lo que sería una clase."
   ]
  },
  {
   "cell_type": "code",
   "execution_count": 8,
   "id": "identical-frequency",
   "metadata": {},
   "outputs": [
    {
     "name": "stdout",
     "output_type": "stream",
     "text": [
      "Hola mi nombre es Cesar soy Docente\n",
      "Hola mi nombre es Wilson soy Cientifico de datos\n"
     ]
    }
   ],
   "source": [
    "class Persona:\n",
    "    def __init__(self, nombre, profesion):\n",
    "        self.nombre = nombre\n",
    "        self.profesion = profesion\n",
    "    def presentarse(self):\n",
    "        print('Hola mi nombre es', self.nombre, 'soy', self.profesion)\n",
    "        \n",
    "objeto_cesar = Persona('Cesar', 'Docente')\n",
    "objeto_cesar.presentarse()\n",
    "\n",
    "objeto_wilson = Persona('Wilson', 'Cientifico de datos')\n",
    "objeto_wilson.presentarse()\n"
   ]
  },
  {
   "cell_type": "markdown",
   "id": "postal-neighbor",
   "metadata": {},
   "source": [
    "### Librerias externas\n",
    "\n",
    "En muchas ocasiones, por no decir la gran mayoria de ocasiones se requiere el uso de librerias externas, por lo tanto es importante saber como agregarlas al proyecto e incluir lo que necesitamos en el código. En este caso queremos importar la libreria **pandas**\n"
   ]
  },
  {
   "cell_type": "code",
   "execution_count": 9,
   "id": "furnished-syndicate",
   "metadata": {},
   "outputs": [
    {
     "name": "stdout",
     "output_type": "stream",
     "text": [
      "Requirement already satisfied: pandas in c:\\users\\usuario\\appdata\\local\\programs\\python\\python39\\lib\\site-packages (1.2.3)\n",
      "Requirement already satisfied: python-dateutil>=2.7.3 in c:\\users\\usuario\\appdata\\local\\programs\\python\\python39\\lib\\site-packages (from pandas) (2.8.1)\n",
      "Requirement already satisfied: pytz>=2017.3 in c:\\users\\usuario\\appdata\\local\\programs\\python\\python39\\lib\\site-packages (from pandas) (2021.1)\n",
      "Requirement already satisfied: numpy>=1.16.5 in c:\\users\\usuario\\appdata\\roaming\\python\\python39\\site-packages (from pandas) (1.19.5)\n",
      "Requirement already satisfied: six>=1.5 in c:\\users\\usuario\\appdata\\local\\programs\\python\\python39\\lib\\site-packages (from python-dateutil>=2.7.3->pandas) (1.15.0)\n"
     ]
    },
    {
     "name": "stderr",
     "output_type": "stream",
     "text": [
      "WARNING: You are using pip version 21.0.1; however, version 21.1.2 is available.\n",
      "You should consider upgrading via the 'c:\\users\\usuario\\appdata\\local\\programs\\python\\python39\\python.exe -m pip install --upgrade pip' command.\n"
     ]
    }
   ],
   "source": [
    "# En caso de no tener instalada la dependencia entonces hay que usar el comando de python pip o pip3 según corresponda\n",
    "!pip install pandas"
   ]
  },
  {
   "cell_type": "markdown",
   "id": "interior-custody",
   "metadata": {},
   "source": [
    "Ahora vamos a importar la libreria **pandas** puesto que la vamos a usar en todos los ejercicios. utilizando el comando import"
   ]
  },
  {
   "cell_type": "code",
   "execution_count": 10,
   "id": "widespread-helicopter",
   "metadata": {},
   "outputs": [],
   "source": [
    "import pandas as pd"
   ]
  },
  {
   "cell_type": "markdown",
   "id": "intelligent-johns",
   "metadata": {},
   "source": [
    "Ahora con el utilizando la funcion **DataFrame()** de la libreria **pandas** vamos a crear una tabla y la vamos a asignar en la variable **mi_tabla **"
   ]
  },
  {
   "cell_type": "code",
   "execution_count": 11,
   "id": "external-baking",
   "metadata": {},
   "outputs": [],
   "source": [
    "mi_tabla = pd.DataFrame(columns=['columna1', 'columna2'])"
   ]
  },
  {
   "cell_type": "markdown",
   "id": "partial-decline",
   "metadata": {},
   "source": [
    "Una de las propiedades del **Dataframe** es que permite agregar programaticamente registros a la tabla por indices, entonces en la primera posicion (en programación la primera posición de una lista o vector no se marca con el numero 1 sino con el 0) se va a agregar una fila que contiene 'elemento1' y 'elemento2'"
   ]
  },
  {
   "cell_type": "code",
   "execution_count": 12,
   "id": "surprised-lebanon",
   "metadata": {},
   "outputs": [],
   "source": [
    "mi_tabla.loc[0] = ['elemento1', 'elemento2']"
   ]
  },
  {
   "cell_type": "code",
   "execution_count": 13,
   "id": "particular-jackson",
   "metadata": {},
   "outputs": [
    {
     "data": {
      "text/html": [
       "<div>\n",
       "<style scoped>\n",
       "    .dataframe tbody tr th:only-of-type {\n",
       "        vertical-align: middle;\n",
       "    }\n",
       "\n",
       "    .dataframe tbody tr th {\n",
       "        vertical-align: top;\n",
       "    }\n",
       "\n",
       "    .dataframe thead th {\n",
       "        text-align: right;\n",
       "    }\n",
       "</style>\n",
       "<table border=\"1\" class=\"dataframe\">\n",
       "  <thead>\n",
       "    <tr style=\"text-align: right;\">\n",
       "      <th></th>\n",
       "      <th>columna1</th>\n",
       "      <th>columna2</th>\n",
       "    </tr>\n",
       "  </thead>\n",
       "  <tbody>\n",
       "    <tr>\n",
       "      <th>0</th>\n",
       "      <td>elemento1</td>\n",
       "      <td>elemento2</td>\n",
       "    </tr>\n",
       "  </tbody>\n",
       "</table>\n",
       "</div>"
      ],
      "text/plain": [
       "    columna1   columna2\n",
       "0  elemento1  elemento2"
      ]
     },
     "execution_count": 13,
     "metadata": {},
     "output_type": "execute_result"
    }
   ],
   "source": [
    "mi_tabla"
   ]
  },
  {
   "cell_type": "markdown",
   "id": "limited-simpson",
   "metadata": {},
   "source": [
    "De momento creo que esto es todo lo que necesitas a nivel del lenguaje para comprender lo que se trabaja en la guia, muchos exitos y estaremos atentos a tus comentarios"
   ]
  }
 ],
 "metadata": {
  "kernelspec": {
   "display_name": "Python 3",
   "language": "python",
   "name": "python3"
  },
  "language_info": {
   "codemirror_mode": {
    "name": "ipython",
    "version": 3
   },
   "file_extension": ".py",
   "mimetype": "text/x-python",
   "name": "python",
   "nbconvert_exporter": "python",
   "pygments_lexer": "ipython3",
   "version": "3.9.2"
  }
 },
 "nbformat": 4,
 "nbformat_minor": 5
}
