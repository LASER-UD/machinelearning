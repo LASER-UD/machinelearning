{
 "cells": [
  {
   "cell_type": "markdown",
   "id": "superior-madonna",
   "metadata": {},
   "source": [
    "![Texto alternativo](https://comunidad.udistrital.edu.co/laser/files/2018/10/cropped-Fondo3.png \"Título alternativo\")\n",
    "\n",
    "# Tutorial ML\n",
    "\n",
    "Esta iniciativa impulsada por **<a href=\"https://comunidad.udistrital.edu.co/laser/\">el grupo de investigación e inteligencia computacional LASER</a>** adscrito a la facultad de ingenierías de la Universidad Distrital Francisco José de Caldas pretende proporcionar a los estudiantes y al publico en general la comprensión de los conceptos mínimos requeridos para el análisis y procesamiento de datos, por medio de ejemplos y material reproducible permitiendole al aprendiz adquirir los conocimientos de forma práctica.\n",
    "\n",
    "En este tutorial se pueden encontrar los siguientes temas:\n",
    "\n",
    "* **Introducción a Python**\n",
    "* **Preparación de los datos**\n",
    "* **Análisis exploratorio**\n",
    "* **Algoritmos clásicos de machine learning**\n",
    "* **Redes neuronales**\n",
    "* **Overfitting y Underfitting**\n"
   ]
  },
  {
   "cell_type": "markdown",
   "id": "smaller-chapel",
   "metadata": {},
   "source": [
    "## Introducción a Python\n",
    "\n",
    "Es un lenguaje de programación de proposito general, muy popular en el área cientifica que permite incluir código escrito en otros lenguajes. Además al ser un lenguaje interpretado, requiere un interprete para ser traducido a lenguaje maquina por lo tanto puede ejecutarse en diferentes sistemas operativos.\n",
    "\n",
    "Ahora vamos a conocer un poco más del lenguaje haciendo click <a href=\"https://colab.research.google.com/github/raulhabits/prueba-pasantia/blob/main/Python.ipynb\">aquí</a>"
   ]
  },
  {
   "cell_type": "markdown",
   "id": "noted-bidding",
   "metadata": {},
   "source": [
    "## Preparación de los datos\n",
    "\n",
    "Esta etapa es de gran importancia ya que consiste en la realización de una o varias operaciones para dar formato a los datos para su posterior tratamiento, dichas operaciones usualmente consisten en:\n",
    "\n",
    "* Transformación de campos\n",
    "* Reducción de atributos\n",
    "* Eliminación o relleno de datos faltantes\n",
    "\n",
    "Para ver en mayor detalle como realizar dichos procedimientos hacer click <a href=\"https://colab.research.google.com/github/raulhabits/prueba-pasantia/blob/main/PreparacionDatos.ipynb\">aquí</a>"
   ]
  },
  {
   "cell_type": "markdown",
   "id": "functioning-puppy",
   "metadata": {},
   "source": [
    "## Análisis exploratorio\n",
    "\n",
    "Esta etapa sirve para tener un conocimiento más profundo y detallado de los datos utilizando diferentes técnicas estadísticas, como lo son:\n",
    "\n",
    "* Descripcion de los datos\n",
    "* Medidas de tendencia central\n",
    "* Interpretación de diagramas\n",
    "* Correlación de variables\n",
    "\n",
    "Para ver diferentes ejemplos hacer click <a href=\"https://colab.research.google.com/github/raulhabits/prueba-pasantia/blob/main/AnalisisExploratorio.ipynb\">aquí</a>"
   ]
  },
  {
   "cell_type": "markdown",
   "id": "numerical-heritage",
   "metadata": {},
   "source": [
    "## Algoritmos clásicos de ML\n",
    "\n",
    "\n",
    "\n",
    "<ul>\n",
    "    <li><a href=\"\">Regresión lineal</a></li>\n",
    "    <li><a href=\"\">Regresión lineal multivariada</a></li>\n",
    "    <li><a href=\"\">Regresion logistica</a></li>\n",
    "    <li><a href=\"\">Random forest</a></li>\n",
    "    <li><a href=\"\">Arboles de decisión</a></li>\n",
    "    <li><a href=\"\">KNNeighbors</a></li>\n",
    "    <li><a href=\"\">Naive Bayes</a></li>\n",
    "    <li><a href=\"\">SVM</a></li>\n",
    "    <li><a href=\"\">Analisis de discriminante linear</a></li>\n",
    "    <li><a href=\"\">KMeans</a></li>\n",
    "    <li>Otro</li>\n",
    "</ul>\n"
   ]
  },
  {
   "cell_type": "markdown",
   "id": "enclosed-danish",
   "metadata": {},
   "source": [
    "## Redes neuronales\n",
    "\n",
    "Para el tratamiento con redes neuronales se encuentran dos grandes librerias que podríamos utilizar como lo son **Pytorch**, **Tensorflow** y **Keras**; desarrolladas por Facebook, Google y el proyecto ONEIROS (Open-ended Neuro-Electronic Intelligent Robot Operating System) respectivamente.\n",
    "\n",
    "Para efectos de este tutorial se utilizara la combinación **Tensorflow 2.0 + Keras** puesto que constituyen una combinación muy popular al realizar deep learning\n",
    "\n",
    "<ul>\n",
    "    <li>Introduccion a tensorflow</li>\n",
    "    <li>Implementacion red neuronal con tensorflow</li>\n",
    "    <li>Implementacion red neuronal convolucional</li>\n",
    "</ul>"
   ]
  },
  {
   "cell_type": "markdown",
   "id": "missing-toddler",
   "metadata": {},
   "source": [
    "## Overfitting y Underfitting\n",
    "\n",
    "Lorem ipsum dolor sit amet consectetur adipiscing elit bibendum, congue faucibus vulputate massa aptent a morbi, nisl molestie etiam per aliquet odio vivamus. Placerat augue dapibus malesuada taciti lacinia tincidunt nisl dictum magna hendrerit, dis dui iaculis vivamus ad lectus penatibus vitae. Faucibus vivamus et etiam tristique lacinia fusce pulvinar hendrerit mauris vitae, viverra facilisis nascetur metus tempus primis magnis suspendisse consequat integer, varius urna molestie mus sollicitudin hac pellentesque sociis vulputate"
   ]
  },
  {
   "cell_type": "code",
   "execution_count": null,
   "id": "western-revision",
   "metadata": {},
   "outputs": [],
   "source": []
  }
 ],
 "metadata": {
  "kernelspec": {
   "display_name": "Python 3",
   "language": "python",
   "name": "python3"
  },
  "language_info": {
   "codemirror_mode": {
    "name": "ipython",
    "version": 3
   },
   "file_extension": ".py",
   "mimetype": "text/x-python",
   "name": "python",
   "nbconvert_exporter": "python",
   "pygments_lexer": "ipython3",
   "version": "3.9.2"
  }
 },
 "nbformat": 4,
 "nbformat_minor": 5
}
