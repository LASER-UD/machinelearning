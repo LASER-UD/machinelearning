{
 "cells": [
  {
   "cell_type": "markdown",
   "id": "superior-madonna",
   "metadata": {},
   "source": [
    "![Texto alternativo](https://laserud.co/wp-content/uploads/2020/05/cropped-LOGOLASER-1.jpg \"Grupo LASER\")\n",
    "\n",
    "# Tutorial ML\n",
    "\n",
    "Esta iniciativa impulsada por **<a href=\"https://laserud.co\">el grupo de investigación e inteligencia computacional LASER</a>** adscrito a la facultad de ingenierías de la Universidad Distrital Francisco José de Caldas pretende proporcionar a los estudiantes y al publico en general la comprensión de los conceptos mínimos requeridos para el análisis y procesamiento de datos, por medio de ejemplos y material reproducible permitiendole al aprendiz adquirir los conocimientos de forma práctica.\n",
    "\n",
    "En este tutorial se pueden encontrar los siguientes temas:\n",
    "\n",
    "* **Introducción a Python**\n",
    "* **Preparación de los datos**\n",
    "* **Análisis exploratorio**\n",
    "* **Algoritmos clásicos de machine learning**\n",
    "* **Redes neuronales**\n",
    "* **Overfitting y Underfitting**\n"
   ]
  },
  {
   "cell_type": "markdown",
   "id": "smaller-chapel",
   "metadata": {},
   "source": [
    "## Introducción a Python\n",
    "\n",
    "Es un lenguaje de programación de proposito general, muy popular en el área cientifica que permite incluir código escrito en otros lenguajes. Además al ser un lenguaje interpretado, requiere un interprete para ser traducido a lenguaje maquina por lo tanto puede ejecutarse en diferentes sistemas operativos.\n",
    "\n",
    "Ahora vamos a conocer un poco más del lenguaje haciendo click <a href=\"https://colab.research.google.com/github/raulhabits/prueba-pasantia/blob/main/Python.ipynb\">aquí</a>"
   ]
  },
  {
   "cell_type": "markdown",
   "id": "noted-bidding",
   "metadata": {},
   "source": [
    "## Preparación de los datos\n",
    "\n",
    "Esta es quizás la etapa más importante en los procesos de análisis de datos, puesto que las decisiones que tome el científico de datos podrían verse reflejadas en:\n",
    "\n",
    "* Darle algún sentido a los datos para facilitar la comprensión en una etapa futura\n",
    "* ¿ Qué algoritmos podrian utilizarse para interactuar con los datos ?\n",
    "\n",
    "Para conocer en mayor detalle las tareas más frecuentes en esta etapa hacer click <a href=\"https://colab.research.google.com/github/raulhabits/prueba-pasantia/blob/main/PreparacionDatos.ipynb\" target=\"_blank\">aquí</a>"
   ]
  },
  {
   "cell_type": "markdown",
   "id": "functioning-puppy",
   "metadata": {},
   "source": [
    "## Análisis exploratorio\n",
    "\n",
    "Esta etapa sirve para tener un conocimiento más profundo y detallado de los datos utilizando diferentes técnicas estadísticas, como lo son:\n",
    "\n",
    "* Descripcion de los datos\n",
    "* Medidas de tendencia central\n",
    "* Interpretación de diagramas\n",
    "* Correlación de variables\n",
    "\n",
    "Para ver diferentes ejemplos hacer click <a href=\"https://colab.research.google.com/github/raulhabits/prueba-pasantia/blob/main/AnalisisExploratorio.ipynb\">aquí</a>"
   ]
  },
  {
   "cell_type": "markdown",
   "id": "numerical-heritage",
   "metadata": {},
   "source": [
    "## Algoritmos clásicos de ML\n",
    "\n",
    "\n",
    "\n",
    "<ul>\n",
    "    <li>Regresión lineal</li>\n",
    "    <li>Regresión lineal multivariada</li>\n",
    "    <li><a href=\"https://colab.research.google.com/github/raulhabits/prueba-pasantia/blob/main/RegresionLogistica.ipynb\" target=\"_blank\">Regresion logistica</a></li>\n",
    "    <li><a href=\"https://colab.research.google.com/github/raulhabits/prueba-pasantia/blob/main/RandomForest.ipynb\" target=\"_blank\">Random forest</a></li>\n",
    "    <li><a href=\"https://colab.research.google.com/github/raulhabits/prueba-pasantia/blob/main/ArbolesDecision.ipynb\">Arboles de decisión</a></li>\n",
    "    <li><a href=\"https://colab.research.google.com/github/raulhabits/prueba-pasantia/blob/main/KNNeighbors.ipynb\" target=\"_blank\">KNNeighbors</a></li>\n",
    "    <li><a href=\"https://colab.research.google.com/github/raulhabits/prueba-pasantia/blob/main/NaiveBayes.ipynb\" target=\"_blank\">Naive Bayes</a></li>\n",
    "    <li><a href=\"https://colab.research.google.com/github/raulhabits/prueba-pasantia/blob/main/SVC.ipynb\" target=\"_blank\">SVC</a></li>\n",
    "    <li><a href=\"https://colab.research.google.com/github/raulhabits/prueba-pasantia/blob/main/DiscriminanteLineal.ipynb\" target=\"_blank\">Analisis de discriminante linear</a></li>\n",
    "    <li><a href=\"https://colab.research.google.com/github/raulhabits/prueba-pasantia/blob/main/K-Means.ipynb\" target=\"_blank\">KMeans</a></li>\n",
    "    <li>Otro</li>\n",
    "</ul>\n"
   ]
  },
  {
   "cell_type": "markdown",
   "id": "enclosed-danish",
   "metadata": {},
   "source": [
    "## Redes neuronales\n",
    "\n",
    "Para el tratamiento con redes neuronales se encuentran dos grandes librerias que podríamos utilizar como lo son **Pytorch**, **Tensorflow** y **Keras**; desarrolladas por Facebook, Google y el proyecto ONEIROS (Open-ended Neuro-Electronic Intelligent Robot Operating System) respectivamente.\n",
    "\n",
    "Para efectos de este tutorial se utilizara la combinación **Tensorflow 2.0 + Keras** puesto que constituyen una combinación muy popular al realizar deep learning\n",
    "\n",
    "<ul>\n",
    "    <li><a href=\"https://colab.research.google.com/github/raulhabits/prueba-pasantia/blob/main/TensorFlow-Neural-Network.ipynb\" target=\"_blank\">Red neuronal con Tensorflow</a></li>\n",
    "    <li>Implementacion red neuronal convolucional</li>\n",
    "</ul>"
   ]
  },
  {
   "cell_type": "markdown",
   "id": "outdoor-heath",
   "metadata": {},
   "source": [
    "## Overfitting y Underfitting\n",
    "\n",
    "Lorem ipsum dolor sit amet consectetur adipiscing elit bibendum, congue faucibus vulputate massa aptent a morbi, nisl molestie etiam per aliquet odio vivamus. Placerat augue dapibus malesuada taciti lacinia tincidunt nisl dictum magna hendrerit, dis dui iaculis vivamus ad lectus penatibus vitae. Faucibus vivamus et etiam tristique lacinia fusce pulvinar hendrerit mauris vitae, viverra facilisis nascetur metus tempus primis magnis suspendisse consequat integer, varius urna molestie mus sollicitudin hac pellentesque sociis vulputate"
   ]
  },
  {
   "cell_type": "code",
   "execution_count": null,
   "id": "aggregate-disposal",
   "metadata": {},
   "outputs": [],
   "source": []
  }
 ],
 "metadata": {
  "kernelspec": {
   "display_name": "Python 3",
   "language": "python",
   "name": "python3"
  },
  "language_info": {
   "codemirror_mode": {
    "name": "ipython",
    "version": 3
   },
   "file_extension": ".py",
   "mimetype": "text/x-python",
   "name": "python",
   "nbconvert_exporter": "python",
   "pygments_lexer": "ipython3",
   "version": "3.9.2"
  }
 },
 "nbformat": 4,
 "nbformat_minor": 5
}
