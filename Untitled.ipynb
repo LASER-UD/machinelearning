{
 "cells": [
  {
   "cell_type": "markdown",
   "id": "considerable-kazakhstan",
   "metadata": {},
   "source": [
    "# Introducción al ML\n",
    "\n",
    "Lorem ipsum dolor sit amet consectetur adipiscing elit, ultrices torquent dictumst senectus libero praesent nec fermentum, est eget vivamus ridiculus class cursus. Class accumsan viverra conubia auctor in mus felis, pharetra sagittis feugiat volutpat natoque facilisi, scelerisque vehicula maecenas justo cras eget. Molestie elementum tempor nulla habitasse tristique nascetur purus rhoncus ligula velit, per at torquent ornare dis justo auctor litora curabitur himenaeos, vestibulum potenti aptent erat neque orci urna netus aenean."
   ]
  },
  {
   "cell_type": "markdown",
   "id": "advisory-floor",
   "metadata": {},
   "source": [
    "## Python\n",
    "\n",
    "Para empezar se hace una guia rápida para el acercamiento al uso del lenguaje de programacion python"
   ]
  },
  {
   "cell_type": "markdown",
   "id": "weird-newcastle",
   "metadata": {},
   "source": [
    "## Preparacion de los datos\n",
    "\n",
    "Lorem ipsum dolor sit amet consectetur adipiscing elit, ultrices torquent dictumst senectus libero praesent nec fermentum, est eget vivamus ridiculus class cursus. Class accumsan viverra conubia auctor in mus felis, pharetra sagittis feugiat volutpat natoque facilisi, scelerisque vehicula maecenas justo cras eget. Molestie elementum tempor nulla habitasse tristique nascetur purus rhoncus ligula velit, per at torquent ornare dis justo auctor litora curabitur himenaeos, vestibulum potenti aptent erat neque orci urna netus aenean."
   ]
  },
  {
   "cell_type": "markdown",
   "id": "disabled-packing",
   "metadata": {},
   "source": [
    "## Analisis exploratorio\n",
    "\n",
    "Lorem ipsum dolor sit amet consectetur adipiscing elit, ultrices torquent dictumst senectus libero praesent nec fermentum, est eget vivamus ridiculus class cursus. Class accumsan viverra conubia auctor in mus felis, pharetra sagittis feugiat volutpat natoque facilisi, scelerisque vehicula maecenas justo cras eget. Molestie elementum tempor nulla habitasse tristique nascetur purus rhoncus ligula velit, per at torquent ornare dis justo auctor litora curabitur himenaeos, vestibulum potenti aptent erat neque orci urna netus aenean.\n"
   ]
  },
  {
   "cell_type": "markdown",
   "id": "portuguese-calculation",
   "metadata": {},
   "source": [
    "## Algoritmos clásicos de ML\n",
    "\n",
    "Lorem ipsum dolor sit amet consectetur adipiscing elit, ultrices torquent dictumst senectus libero praesent nec fermentum, est eget vivamus ridiculus class cursus. Class accumsan viverra conubia auctor in mus felis, pharetra sagittis feugiat volutpat natoque facilisi, scelerisque vehicula maecenas justo cras eget. Molestie elementum tempor nulla habitasse tristique nascetur purus rhoncus ligula velit, per at torquent ornare dis justo auctor litora curabitur himenaeos, vestibulum potenti aptent erat neque orci urna netus aenean.\n",
    "\n",
    "<ul>\n",
    "    <li><a href=\"\">Regresion logistica</a></li>\n",
    "</ul>\n"
   ]
  },
  {
   "cell_type": "markdown",
   "id": "restricted-reporter",
   "metadata": {},
   "source": [
    "## Redes neuronales\n",
    "\n",
    "Lorem ipsum dolor sit amet consectetur adipiscing elit, ultrices torquent dictumst senectus libero praesent nec fermentum, est eget vivamus ridiculus class cursus. Class accumsan viverra conubia auctor in mus felis, pharetra sagittis feugiat volutpat natoque facilisi, scelerisque vehicula maecenas justo cras eget. Molestie elementum tempor nulla habitasse tristique nascetur purus rhoncus ligula velit, per at torquent ornare dis justo auctor litora curabitur himenaeos, vestibulum potenti aptent erat neque orci urna netus aenean.\n",
    "<ul>\n",
    "    <li>Introduccion a tensorflow</li>\n",
    "    <li>Implementacion red neuronal con tensorflow</li>\n",
    "    <li>Implementacion red neuronal convolucional</li>\n",
    "</ul>"
   ]
  },
  {
   "cell_type": "markdown",
   "id": "australian-newport",
   "metadata": {},
   "source": [
    "## Otros ejemplos\n",
    "\n",
    "<ul>\n",
    "    <li><a href=\"https://colab.research.google.com/github/raulhabits/prueba-pasantia/blob/main/zoo_data_set.ipynb\">Zoo Data Set</a></li>\n",
    "</ul>"
   ]
  },
  {
   "cell_type": "code",
   "execution_count": null,
   "id": "muslim-rebel",
   "metadata": {},
   "outputs": [],
   "source": []
  }
 ],
 "metadata": {
  "kernelspec": {
   "display_name": "Python 3",
   "language": "python",
   "name": "python3"
  },
  "language_info": {
   "codemirror_mode": {
    "name": "ipython",
    "version": 3
   },
   "file_extension": ".py",
   "mimetype": "text/x-python",
   "name": "python",
   "nbconvert_exporter": "python",
   "pygments_lexer": "ipython3",
   "version": "3.9.2"
  }
 },
 "nbformat": 4,
 "nbformat_minor": 5
}
