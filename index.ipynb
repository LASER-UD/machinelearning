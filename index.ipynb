{
 "cells": [
  {
   "cell_type": "markdown",
   "metadata": {},
   "source": [
    "![Texto alternativo](https://laserud.co/wp-content/uploads/2020/05/cropped-LOGOLASER-1.jpg \"Grupo LASER\")\n",
    "\n",
    "# Tutoriales de Machine Learning\n",
    "\n",
    "Esta iniciativa impulsada por **<a href=\"https://laserud.co\">el grupo de investigación e inteligencia computacional LASER</a>** adscrito a la facultad de ingenierías de la Universidad Distrital Francisco José de Caldas proporciona a los estudiantes y al público en general una alternativa de aprendizaje de temas clave en Machine Learning.\n",
    "\n",
    "Dentro de los tutoriales se encuentran temas como: el análisis y procesamiento de datos, entrenamiento de modelos de inteligencia computacional, series de tiempo, etc. La metodología se basa en los ejemplos, que contienen material reproducible ejecutado en Google Colab. De esta manera, los interesados adquieren conocimientos teóricos y prácticos de Machine Learning en un solo lugar.\n",
    "\n",
    "Dentro de la biblioteca de tutoriales podemos encontrar los siquientes tópicos:\n",
    "\n",
    "* **Introducción a Python**\n",
    "* **Preparación de los datos**\n",
    "* **Análisis exploratorio**\n",
    "* **Algoritmos clásicos de machine learning**\n",
    "* **Algoritmos basados en árboles de decisión**\n",
    "* **Redes neuronales con imágenes**\n",
    "* **Procesamiento de Lenguaje Natural (NLP)**\n",
    "* **Series de tiempo**\n"
   ]
  },
  {
   "cell_type": "markdown",
   "metadata": {},
   "source": [
    "## Introducción a Python\n",
    "\n",
    "Es un lenguaje de programación de alto nivel interpretado, muy popular entre la comunidad cientifica, permite desarrollar todo tipo de aplicaciones. Además, al ser un lenguaje interpretado, requiere un interprete para ser traducido a lenguaje maquina por lo tanto puede ejecutarse en diferentes sistemas operativos.\n",
    "\n",
    "Ahora vamos a conocer un poco más del lenguaje haciendo click <a href=\"https://colab.research.google.com/github/LASER-UD/machinelearning/blob/main/Python/Python.ipynb\">aquí</a>"
   ]
  },
  {
   "cell_type": "markdown",
   "metadata": {},
   "source": [
    "## Estadística Descriptiva\n",
    "\n",
    "Esta etapa sirve para tener un conocimiento más profundo y detallado de los datos utilizando diferentes técnicas estadísticas, como lo son:\n",
    "\n",
    "* Descripcion de los datos\n",
    "* Medidas de tendencia central\n",
    "* Interpretación de diagramas\n",
    "* Correlación de variables\n",
    "\n",
    "Para ver diferentes ejemplos hacer click <a href=\"https://colab.research.google.com/github/LASER-UD/machinelearning/blob/main/MineriaDatos/EstadisticaDescriptiva.ipynb\">aquí</a>"
   ]
  },
  {
   "cell_type": "markdown",
   "metadata": {},
   "source": [
    "## Preparación de los datos\n",
    "\n",
    "Esta es quizás la etapa más importante en los procesos de análisis de datos, puesto que las decisiones que tome el científico de datos podrían verse reflejadas en:\n",
    "\n",
    "* Darle algún sentido a los datos para facilitar la comprensión en una etapa futura\n",
    "* ¿Qué algoritmos podrian utilizarse para interactuar con los datos?\n",
    "\n",
    "Para conocer en mayor detalle las tareas más frecuentes en esta etapa hacer click <a href=\"https://colab.research.google.com/github/LASER-UD/machinelearning/blob/main/MineriaDatos/PreparacionDatos.ipynb\" target=\"_blank\">aquí</a>"
   ]
  },
  {
   "cell_type": "markdown",
   "metadata": {},
   "source": [
    "## Algoritmos clásicos de ML\n",
    "\n",
    "* **<a href=\"https://colab.research.google.com/github/LASER-UD/machinelearning/blob/main/Regresion/RegresionLineal.ipynb\">Regresión lineal</a>**\n",
    "* **<a href=\"https://colab.research.google.com/github/LASER-UD/machinelearning/blob/main/Regresion/RegresionLogistica.ipynb\">Regresion logistica</a>**\n",
    "* **<a href=\"https://colab.research.google.com/github/LASER-UD/machinelearning/blob/main/AlgoritmosClasicos/KNNeighbors.ipynb\">KNNeighbors</a>**\n",
    "* **<a href=\"https://colab.research.google.com/github/LASER-UD/machinelearning/blob/main/AlgoritmosClasicos/NaiveBayes.ipynb\">Naive Bayes</a>**\n",
    "* **<a href=\"https://colab.research.google.com/github/LASER-UD/machinelearning/blob/main/AlgoritmosClasicos/SVC.ipynb\">SVC</a>**\n",
    "* **<a href=\"https://colab.research.google.com/github/LASER-UD/machinelearning/blob/main/AlgoritmosClasicos/DiscriminanteLineal.ipynb\">Analisis de discriminante linear</a>**\n",
    "* **<a href=\"https://colab.research.google.com/github/LASER-UD/machinelearning/blob/main/AlgoritmosClasicos/K-Means.ipynb\">KMeans</a>**\n"
   ]
  },
  {
   "cell_type": "markdown",
   "metadata": {},
   "source": [
    "## Redes neuronales\n",
    "\n",
    "Para el tratamiento con redes neuronales se encuentran dos grandes librerias que podríamos utilizar como lo son **Pytorch**, **Tensorflow** y **Keras**; desarrolladas por Facebook, Google y el proyecto ONEIROS (Open-ended Neuro-Electronic Intelligent Robot Operating System) respectivamente.\n",
    "\n",
    "Para efectos de este tutorial se utilizara la combinación **Tensorflow 2.0 + Keras** puesto que constituyen una combinación muy popular al realizar deep learning\n",
    "\n",
    "* **<a href=\"https://colab.research.google.com/github/LASER-UD/machinelearning/blob/main/TensorFlow-Neural-Network.ipynb\">Red neuronal con Tensorflow</a>**\n",
    "* **<a href=\"https://colab.research.google.com/github/LASER-UD/machinelearning/blob/main/Imagenes/ImageClass/CNN_img_class.ipynb\">Clasificación de imágenes desde cero</a>**"
   ]
  },
  {
   "cell_type": "markdown",
   "metadata": {},
   "source": [
    "## Árboles de Decisión\n",
    "Los árboles de decisión crean un modelo que predice las etiquetas evaluando un árbol de preguntas sobre las características del tipo if-then-else true/false. Entonces se estima el mínimo número de preguntas necesarias para evaluar la probabilidad de tomar una decisión correcta. Los árboles de decisión pueden ser usados en tareas de clasificación para predecir una categoría, o en tareas de regresión para predecir un valor numérico continuo. Tenemos los siguientes tutoriales sobre árboles de decisión:\n",
    "* **<a href=\"https://colab.research.google.com/github/LASER-UD/machinelearning/blob/main/BasadosArboles/ArbolesDecision.ipynb\">Arboles de decisión</a>**\n",
    "* **<a href=\"https://colab.research.google.com/github/LASER-UD/machinelearning/blob/main/BasadosArboles/RandomForest.ipynb\">Random forest</a>**\n",
    "* **<a href=\"https://colab.research.google.com/github/LASER-UD/machinelearning/blob/main/BasadosArboles/Class-XGBoost/XGBoost-class.ipynb\">XGBoost</a>**"
   ]
  },
  {
   "cell_type": "markdown",
   "metadata": {},
   "source": [
    "## Procesamiento de Lenguaje Natural\n",
    "El Procesamiento de Lenguaje Natural (NLP) es un área de estudio de las ciencias de la computación que se interesa por las interacciones entre las maquinas y el lenguaje humano. El NLP ayuda a que las maquinas puedan entender e interpretar diferentes idiomas, que sean capaces de descifrar las relaciones entre palabras y su significado. Dentro de las variadas aplicaciones se encuentran: asistentes virtuales, traducción automática de texto, recuperación de información, clasificación de textos, etc. Dentro de NLP hemos desarrollado los siguientes tutoriales:\n",
    "\n",
    "* **<a href=\"https://colab.research.google.com/github/LASER-UD/machinelearning/blob/main/NLP/CleanTextNLP/CleaningNLP.ipynb\">Introducción a NLP</a>**\n",
    "* **<a href=\"https://colab.research.google.com/github/LASER-UD/machinelearning/blob/main/NLP/TextSummarization/summarization-seq2seq.ipynb\">Síntesis de texto</a>**\n",
    "* **<a href=\"https://colab.research.google.com/github/LASER-UD/machinelearning/blob/main/NLP/WordLevelModel/WordLevelModel.ipynb\">Generación de texto</a>**"
   ]
  },
  {
   "cell_type": "markdown",
   "metadata": {},
   "source": [
    "## Series de Tiempo\n",
    "\n",
    "Las series de tiempo son secuencias de datos, observaciones o valores, tomados en intervalos de tiempo específicos y ordenados cronológicamente. Nos encontraremos con este tipo de dato en prácticamente cualquier industria que analicemos. Para hablar de series de tiempo tenemos los siguientes tutoriales:\n",
    "\n",
    "* **<a href=\"https://colab.research.google.com/github/LASER-UD/machinelearning/blob/main/SeriesDeTiempo/TimeSeies/TimeSeries.ipynb\">Introducción a series de tiempo</a>**\n",
    "* **<a href=\"https://colab.research.google.com/github/LASER-UD/machinelearning/blob/main/SeriesDeTiempo/Anomaly-TimeSeries/Anomaly-TimeSeries.ipynb\">Detección de anomalías en Series de Tiempo</a>**\n",
    "* **<a href=\"https://colab.research.google.com/github/LASER-UD/machinelearning/blob/main/SeriesDeTiempo/OneStepLSTM/OneStepLSTM.ipynb\">Predicción de Series de Tiempo con redes LSTM</a>**"
   ]
  },
  {
   "cell_type": "code",
   "execution_count": null,
   "metadata": {},
   "outputs": [],
   "source": []
  }
 ],
 "metadata": {
  "interpreter": {
   "hash": "2e3c1e8da6e821b0193601da5a0e541c0efda9704da45b6b820f5f4c317f2def"
  },
  "kernelspec": {
   "display_name": "Python 3",
   "language": "python",
   "name": "python3"
  },
  "language_info": {
   "codemirror_mode": {
    "name": "ipython",
    "version": 3
   },
   "file_extension": ".py",
   "mimetype": "text/x-python",
   "name": "python",
   "nbconvert_exporter": "python",
   "pygments_lexer": "ipython3",
   "version": "3.7.7"
  }
 },
 "nbformat": 4,
 "nbformat_minor": 5
}
